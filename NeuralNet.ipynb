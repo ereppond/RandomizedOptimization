{
 "cells": [
  {
   "cell_type": "code",
   "execution_count": 1,
   "id": "c7419fa5",
   "metadata": {},
   "outputs": [],
   "source": [
    "import pandas as pd\n",
    "import numpy as np\n",
    "pd.set_option('max_columns', None)\n",
    "\n",
    "from sklearn.neural_network import MLPClassifier\n",
    "from sklearn.model_selection import train_test_split\n",
    "\n",
    "import matplotlib.pyplot as plt\n",
    "import warnings\n",
    "warnings.filterwarnings('ignore')\n",
    "\n",
    "from sklearn.model_selection import GridSearchCV\n",
    "from sklearn.metrics import make_scorer, accuracy_score, classification_report, recall_score\n",
    "\n",
    "import mlrose_hiive\n",
    "from time import time"
   ]
  },
  {
   "cell_type": "code",
   "execution_count": 2,
   "id": "989888ab",
   "metadata": {},
   "outputs": [],
   "source": [
    "train = pd.read_csv('data/diabetes_data.csv')\n",
    "test = pd.read_csv('data/test_diabetes_data.csv')"
   ]
  },
  {
   "cell_type": "code",
   "execution_count": 3,
   "id": "8489ab8b",
   "metadata": {},
   "outputs": [
    {
     "data": {
      "text/html": [
       "<div>\n",
       "<style scoped>\n",
       "    .dataframe tbody tr th:only-of-type {\n",
       "        vertical-align: middle;\n",
       "    }\n",
       "\n",
       "    .dataframe tbody tr th {\n",
       "        vertical-align: top;\n",
       "    }\n",
       "\n",
       "    .dataframe thead th {\n",
       "        text-align: right;\n",
       "    }\n",
       "</style>\n",
       "<table border=\"1\" class=\"dataframe\">\n",
       "  <thead>\n",
       "    <tr style=\"text-align: right;\">\n",
       "      <th></th>\n",
       "      <th>HighBP</th>\n",
       "      <th>HighChol</th>\n",
       "      <th>CholCheck</th>\n",
       "      <th>BMI</th>\n",
       "      <th>Smoker</th>\n",
       "      <th>Stroke</th>\n",
       "      <th>HeartDiseaseorAttack</th>\n",
       "      <th>PhysActivity</th>\n",
       "      <th>Fruits</th>\n",
       "      <th>Veggies</th>\n",
       "      <th>HvyAlcoholConsump</th>\n",
       "      <th>AnyHealthcare</th>\n",
       "      <th>NoDocbcCost</th>\n",
       "      <th>GenHlth</th>\n",
       "      <th>MentHlth</th>\n",
       "      <th>PhysHlth</th>\n",
       "      <th>DiffWalk</th>\n",
       "      <th>Age</th>\n",
       "      <th>Education</th>\n",
       "      <th>Income</th>\n",
       "      <th>IsMale</th>\n",
       "      <th>Diabetes</th>\n",
       "    </tr>\n",
       "  </thead>\n",
       "  <tbody>\n",
       "    <tr>\n",
       "      <th>0</th>\n",
       "      <td>False</td>\n",
       "      <td>False</td>\n",
       "      <td>False</td>\n",
       "      <td>66.0</td>\n",
       "      <td>False</td>\n",
       "      <td>False</td>\n",
       "      <td>False</td>\n",
       "      <td>False</td>\n",
       "      <td>True</td>\n",
       "      <td>True</td>\n",
       "      <td>False</td>\n",
       "      <td>True</td>\n",
       "      <td>False</td>\n",
       "      <td>5.0</td>\n",
       "      <td>0.0</td>\n",
       "      <td>30.0</td>\n",
       "      <td>True</td>\n",
       "      <td>9.0</td>\n",
       "      <td>4.0</td>\n",
       "      <td>5.0</td>\n",
       "      <td>False</td>\n",
       "      <td>True</td>\n",
       "    </tr>\n",
       "    <tr>\n",
       "      <th>1</th>\n",
       "      <td>False</td>\n",
       "      <td>False</td>\n",
       "      <td>False</td>\n",
       "      <td>34.0</td>\n",
       "      <td>False</td>\n",
       "      <td>False</td>\n",
       "      <td>False</td>\n",
       "      <td>True</td>\n",
       "      <td>False</td>\n",
       "      <td>True</td>\n",
       "      <td>False</td>\n",
       "      <td>True</td>\n",
       "      <td>False</td>\n",
       "      <td>3.0</td>\n",
       "      <td>0.0</td>\n",
       "      <td>0.0</td>\n",
       "      <td>False</td>\n",
       "      <td>7.0</td>\n",
       "      <td>6.0</td>\n",
       "      <td>8.0</td>\n",
       "      <td>False</td>\n",
       "      <td>True</td>\n",
       "    </tr>\n",
       "    <tr>\n",
       "      <th>2</th>\n",
       "      <td>False</td>\n",
       "      <td>False</td>\n",
       "      <td>False</td>\n",
       "      <td>30.0</td>\n",
       "      <td>False</td>\n",
       "      <td>False</td>\n",
       "      <td>False</td>\n",
       "      <td>True</td>\n",
       "      <td>True</td>\n",
       "      <td>True</td>\n",
       "      <td>False</td>\n",
       "      <td>True</td>\n",
       "      <td>False</td>\n",
       "      <td>3.0</td>\n",
       "      <td>0.0</td>\n",
       "      <td>2.0</td>\n",
       "      <td>False</td>\n",
       "      <td>6.0</td>\n",
       "      <td>6.0</td>\n",
       "      <td>8.0</td>\n",
       "      <td>True</td>\n",
       "      <td>True</td>\n",
       "    </tr>\n",
       "    <tr>\n",
       "      <th>3</th>\n",
       "      <td>False</td>\n",
       "      <td>False</td>\n",
       "      <td>False</td>\n",
       "      <td>39.0</td>\n",
       "      <td>False</td>\n",
       "      <td>False</td>\n",
       "      <td>False</td>\n",
       "      <td>True</td>\n",
       "      <td>True</td>\n",
       "      <td>True</td>\n",
       "      <td>False</td>\n",
       "      <td>True</td>\n",
       "      <td>False</td>\n",
       "      <td>2.0</td>\n",
       "      <td>2.0</td>\n",
       "      <td>10.0</td>\n",
       "      <td>True</td>\n",
       "      <td>4.0</td>\n",
       "      <td>5.0</td>\n",
       "      <td>5.0</td>\n",
       "      <td>False</td>\n",
       "      <td>True</td>\n",
       "    </tr>\n",
       "    <tr>\n",
       "      <th>4</th>\n",
       "      <td>False</td>\n",
       "      <td>False</td>\n",
       "      <td>False</td>\n",
       "      <td>37.0</td>\n",
       "      <td>True</td>\n",
       "      <td>False</td>\n",
       "      <td>False</td>\n",
       "      <td>False</td>\n",
       "      <td>False</td>\n",
       "      <td>True</td>\n",
       "      <td>False</td>\n",
       "      <td>True</td>\n",
       "      <td>False</td>\n",
       "      <td>2.0</td>\n",
       "      <td>0.0</td>\n",
       "      <td>0.0</td>\n",
       "      <td>False</td>\n",
       "      <td>7.0</td>\n",
       "      <td>6.0</td>\n",
       "      <td>7.0</td>\n",
       "      <td>True</td>\n",
       "      <td>True</td>\n",
       "    </tr>\n",
       "  </tbody>\n",
       "</table>\n",
       "</div>"
      ],
      "text/plain": [
       "   HighBP  HighChol  CholCheck   BMI  Smoker  Stroke  HeartDiseaseorAttack  \\\n",
       "0   False     False      False  66.0   False   False                 False   \n",
       "1   False     False      False  34.0   False   False                 False   \n",
       "2   False     False      False  30.0   False   False                 False   \n",
       "3   False     False      False  39.0   False   False                 False   \n",
       "4   False     False      False  37.0    True   False                 False   \n",
       "\n",
       "   PhysActivity  Fruits  Veggies  HvyAlcoholConsump  AnyHealthcare  \\\n",
       "0         False    True     True              False           True   \n",
       "1          True   False     True              False           True   \n",
       "2          True    True     True              False           True   \n",
       "3          True    True     True              False           True   \n",
       "4         False   False     True              False           True   \n",
       "\n",
       "   NoDocbcCost  GenHlth  MentHlth  PhysHlth  DiffWalk  Age  Education  Income  \\\n",
       "0        False      5.0       0.0      30.0      True  9.0        4.0     5.0   \n",
       "1        False      3.0       0.0       0.0     False  7.0        6.0     8.0   \n",
       "2        False      3.0       0.0       2.0     False  6.0        6.0     8.0   \n",
       "3        False      2.0       2.0      10.0      True  4.0        5.0     5.0   \n",
       "4        False      2.0       0.0       0.0     False  7.0        6.0     7.0   \n",
       "\n",
       "   IsMale  Diabetes  \n",
       "0   False      True  \n",
       "1   False      True  \n",
       "2    True      True  \n",
       "3   False      True  \n",
       "4    True      True  "
      ]
     },
     "execution_count": 3,
     "metadata": {},
     "output_type": "execute_result"
    }
   ],
   "source": [
    "train.head()"
   ]
  },
  {
   "cell_type": "code",
   "execution_count": 4,
   "id": "87fbebf0",
   "metadata": {},
   "outputs": [],
   "source": [
    "for col in train.columns:\n",
    "    train[col] = train[col].astype(np.float)\n",
    "    test[col] = test[col].astype(np.float)"
   ]
  },
  {
   "cell_type": "code",
   "execution_count": 5,
   "id": "9ef87041",
   "metadata": {},
   "outputs": [],
   "source": [
    "X_train = train.drop('Diabetes', axis=1)\n",
    "y_train = train['Diabetes']\n",
    "X_test  = test.drop('Diabetes', axis=1)\n",
    "y_test = test['Diabetes']"
   ]
  },
  {
   "cell_type": "markdown",
   "id": "8b9afbe9",
   "metadata": {},
   "source": [
    "## Search Algorithms "
   ]
  },
  {
   "cell_type": "code",
   "execution_count": 42,
   "id": "c0d3371a",
   "metadata": {},
   "outputs": [],
   "source": [
    "## fix \n",
    "learning_rates = [0.01, 0.1, 1]\n",
    "restarts       = [6, 8, 10]\n",
    "schedules      = [mlrose_hiive.GeomDecay(), mlrose_hiive.ExpDecay(), mlrose_hiive.ArithDecay()]\n",
    "scheduleNames  = ['GeomDecay', 'ExpDecay', 'ArithDecay']\n",
    "populations    = [20, 50, 100]"
   ]
  },
  {
   "cell_type": "code",
   "execution_count": 22,
   "id": "de3766ba",
   "metadata": {},
   "outputs": [],
   "source": [
    "def get_recall(model, X_test, y_test):\n",
    "    y_pred = model.predict(X_test)\n",
    "    recall = classification_report(y_test, y_pred, output_dict=True)['1.0']['recall']\n",
    "    return recall"
   ]
  },
  {
   "cell_type": "markdown",
   "id": "627b7653",
   "metadata": {},
   "source": [
    "## Random Hill Climb"
   ]
  },
  {
   "cell_type": "code",
   "execution_count": 58,
   "id": "019e8133",
   "metadata": {},
   "outputs": [
    {
     "name": "stdout",
     "output_type": "stream",
     "text": [
      "best score: 0         Current Score: 0.6119845743102936         Learning Rate: 1         Restart: 10        Fitness: 9.581429662241561649\r"
     ]
    }
   ],
   "source": [
    "rh_scores     = []\n",
    "best_rh_fitness = 0\n",
    "best_rh_score = 0\n",
    "best_fitness_score = 0\n",
    "best_rh_model = None\n",
    "for lr in learning_rates:\n",
    "    for restart in restarts:\n",
    "        rh = mlrose_hiive.NeuralNetwork(\n",
    "            hidden_nodes      = [25], \n",
    "            activation        = 'relu',\n",
    "            algorithm         = 'random_hill_climb',\n",
    "            restarts          = restart, \n",
    "            is_classifier     = True,\n",
    "            learning_rate     = lr,\n",
    "            max_attempts      = 50,\n",
    "            random_state      = 0,\n",
    "            early_stopping    = True,\n",
    "            max_iters         = 100,\n",
    "            curve             = True\n",
    "        )\n",
    "        start = time()\n",
    "        rh.fit(X_train, y_train)\n",
    "        rh_time = time() - start\n",
    "        score = get_recall(rh, X_test, y_test)\n",
    "        rh_scores.append({'LearningRate':lr, 'Restart':restart, 'Score':score, 'Time':rh_time, 'Loss':rh.loss, 'Fitness':rh.fitness_curve[-1,0]})\n",
    "        if rh.fitness_curve[-1,0] > best_rh_fitness:\n",
    "            best_rh_fitness = rh.fitness_curve[-1,0]\n",
    "            best_rh_model = rh\n",
    "        print(f'best score: {best_rh_score} \\\n",
    "        Current Score: {score} \\\n",
    "        Learning Rate: {lr} \\\n",
    "        Restart: {restart}\\\n",
    "        Fitness: {rh.fitness_curve[-1,0]}', \n",
    "              end='\\r')"
   ]
  },
  {
   "cell_type": "code",
   "execution_count": 28,
   "id": "5911a603",
   "metadata": {},
   "outputs": [],
   "source": [
    "import matplotlib.pyplot as plt"
   ]
  },
  {
   "cell_type": "code",
   "execution_count": 61,
   "id": "1c50593a",
   "metadata": {
    "scrolled": true
   },
   "outputs": [
    {
     "data": {
      "text/plain": [
       "Text(0, 0.5, 'Fitness')"
      ]
     },
     "execution_count": 61,
     "metadata": {},
     "output_type": "execute_result"
    },
    {
     "data": {
      "image/png": "[encoded data removed]",
      "text/plain": [
       "<Figure size 1224x360 with 3 Axes>"
      ]
     },
     "metadata": {
      "needs_background": "light"
     },
     "output_type": "display_data"
    }
   ],
   "source": [
    "rh_scores_df = pd.DataFrame(rh_scores)\n",
    "\n",
    "fig, ax = plt.subplots(1, 3, figsize=(17,5))\n",
    "ax[0].plot(best_rh_model.fitness_curve[:,0])\n",
    "ax[0].set_ylabel('Fitness')\n",
    "ax[0].set_xlabel('Iteration')\n",
    "ax[0].set_title('Best Random Hill Climb Optimizer')\n",
    "rh_scores_df.groupby(['LearningRate', 'Restart']).mean().unstack()['Score'].plot.bar(ax=ax[1])\n",
    "# ax[1].scatter(rh_scores_df['LearningRate'], rh_scores_df['Score'])\n",
    "ax[1].set_ylabel('Recall')\n",
    "# ax[1].set_xlabel('Learning Rate')\n",
    "ax[1].set_title('Comparing Recall for Random Hill Climb NN');\n",
    "rh_scores_df.groupby(['LearningRate', 'Restart']).mean().unstack()['Fitness'].plot.bar(ax=ax[2])\n",
    "ax[2].set_title('Average Fitness for Random Hill Climb')\n",
    "ax[2].set_ylabel('Fitness')"
   ]
  },
  {
   "cell_type": "markdown",
   "id": "9644e88e",
   "metadata": {},
   "source": [
    "## Simulated Annealing"
   ]
  },
  {
   "cell_type": "code",
   "execution_count": 48,
   "id": "5e628192",
   "metadata": {},
   "outputs": [
    {
     "name": "stdout",
     "output_type": "stream",
     "text": [
      "best score: 0         Current Score: 0.7635716404627707         Learning Rate: 1         Schedule: ArithDecay        Fitness: 4.376108788133151635\r"
     ]
    }
   ],
   "source": [
    "sa_scores     = []\n",
    "best_sa_score = 0\n",
    "best_sa_loss = 1000\n",
    "best_sa_fitness = 0\n",
    "best_sa_model = None\n",
    "for lr in learning_rates:\n",
    "    for i, schedule in enumerate(schedules):\n",
    "        sa = mlrose_hiive.NeuralNetwork(\n",
    "            hidden_nodes      = [25], \n",
    "            activation        = 'relu',\n",
    "            algorithm         = 'simulated_annealing',\n",
    "            schedule          = schedule, \n",
    "            is_classifier     = True,\n",
    "            learning_rate     = lr,\n",
    "            max_attempts      = 100,\n",
    "            random_state      = 0,\n",
    "            early_stopping    = True,\n",
    "            curve             = True\n",
    "        )\n",
    "        start = time()\n",
    "        sa.fit(X_train, y_train)\n",
    "        sa_time = time() - start\n",
    "        score = get_recall(sa, X_test, y_test)\n",
    "        sa_fitness = sa.fitness_curve[-1,0]\n",
    "        sa_scores.append({'LearningRate':lr, 'Schedule':scheduleNames[i], 'Score':score, 'Time':sa_time, 'Loss':sa.loss, 'Fitness':sa.fitness_curve[-1,0]})\n",
    "        if sa_fitness > best_sa_fitness:\n",
    "            best_sa_fitness = sa_fitness\n",
    "            best_sa_model = sa\n",
    "        print(f'best score: {best_sa_score} \\\n",
    "        Current Score: {score} \\\n",
    "        Learning Rate: {lr} \\\n",
    "        Schedule: {scheduleNames[i]}\\\n",
    "        Fitness: {sa_fitness}', \n",
    "              end='\\r')    "
   ]
  },
  {
   "cell_type": "code",
   "execution_count": 66,
   "id": "040fdbca",
   "metadata": {},
   "outputs": [
    {
     "data": {
      "text/plain": [
       "Text(0, 0.5, 'Fitness')"
      ]
     },
     "execution_count": 66,
     "metadata": {},
     "output_type": "execute_result"
    },
    {
     "data": {
      "image/png": "[encoded data removed]",
      "text/plain": [
       "<Figure size 1224x360 with 3 Axes>"
      ]
     },
     "metadata": {
      "needs_background": "light"
     },
     "output_type": "display_data"
    }
   ],
   "source": [
    "sa_scores_df = pd.DataFrame(sa_scores)\n",
    "sa_scores_df['Schedule'] = sa_scores_df['Schedule'].astype(str)\n",
    "fig, ax = plt.subplots(1, 3, figsize=(17,5))\n",
    "ax[0].plot(best_sa_model.fitness_curve[:,0])\n",
    "ax[0].set_ylabel('Fitness')\n",
    "ax[0].set_xlabel('Iteration')\n",
    "ax[0].set_title('Best Simulated Annealing Optimizer')\n",
    "sa_scores_df.groupby(['LearningRate', 'Schedule']).mean().unstack()['Score'].plot.bar(ax=ax[1])\n",
    "# ax[1].scatter(rh_scores_df['LearningRate'], rh_scores_df['Score'])\n",
    "ax[1].set_ylabel('Recall')\n",
    "# ax[1].set_xlabel('Learning Rate')\n",
    "ax[1].set_title('Comparing Recall for Simulated Annealing NN');\n",
    "sa_scores_df.groupby(['LearningRate', 'Schedule']).mean().unstack()['Fitness'].plot.bar(ax=ax[2])\n",
    "ax[2].set_title('Average Fitness for Simulated Annealing')\n",
    "ax[2].set_ylabel('Fitness')"
   ]
  },
  {
   "cell_type": "markdown",
   "id": "181e1b2a",
   "metadata": {},
   "source": [
    "## Genetic Algorithm"
   ]
  },
  {
   "cell_type": "code",
   "execution_count": 60,
   "id": "e6686be8",
   "metadata": {},
   "outputs": [
    {
     "name": "stdout",
     "output_type": "stream",
     "text": [
      "best score: 11.091471829588453         Current Score: 0.8030258083654702         Learning Rate: 1         Population: 100        Fitness: 10.623219033078557303\r"
     ]
    }
   ],
   "source": [
    "ga_scores     = []\n",
    "best_ga_score = 0\n",
    "best_ga_fitness = 0\n",
    "best_ga_loss = 1000\n",
    "best_ga_model = None\n",
    "for lr in learning_rates:\n",
    "    for pop in populations:\n",
    "        ga = mlrose_hiive.NeuralNetwork(\n",
    "            hidden_nodes      = [25], \n",
    "            activation        = 'relu',\n",
    "            algorithm         = 'genetic_alg',\n",
    "            pop_size          = pop, \n",
    "            is_classifier     = True,\n",
    "            learning_rate     = lr,\n",
    "            max_attempts      = 100,\n",
    "            random_state      = 0,\n",
    "            early_stopping    = True,\n",
    "            curve             = True\n",
    "        )\n",
    "        start = time()\n",
    "        ga.fit(X_train, y_train)\n",
    "        ga_time = time() - start\n",
    "        score = get_recall(ga, X_test, y_test)\n",
    "        ga_fitness = ga.fitness_curve[-1,0]\n",
    "        ga_scores.append({'LearningRate':lr, 'Population':pop, 'Score':score, 'Time':ga_time, 'Loss':ga.loss, 'Fitness':ga.fitness_curve[-1,0]})\n",
    "        if ga_fitness >= best_ga_fitness:\n",
    "            best_ga_fitness = ga_fitness\n",
    "            best_ga_model = ga\n",
    "        print(f'best score: {best_ga_fitness} \\\n",
    "        Current Score: {score} \\\n",
    "        Learning Rate: {lr} \\\n",
    "        Population: {pop}\\\n",
    "        Fitness: {ga_fitness}', \n",
    "              end='\\r')"
   ]
  },
  {
   "cell_type": "code",
   "execution_count": 65,
   "id": "7e750eb2",
   "metadata": {},
   "outputs": [
    {
     "data": {
      "text/plain": [
       "Text(0, 0.5, 'Fitness')"
      ]
     },
     "execution_count": 65,
     "metadata": {},
     "output_type": "execute_result"
    },
    {
     "data": {
      "image/png": "[encoded data removed]",
      "text/plain": [
       "<Figure size 1224x360 with 3 Axes>"
      ]
     },
     "metadata": {
      "needs_background": "light"
     },
     "output_type": "display_data"
    }
   ],
   "source": [
    "ga_scores_df = pd.DataFrame(ga_scores)\n",
    "ga_scores_df['Population'] = ga_scores_df['Population'].astype(str)\n",
    "fig, ax = plt.subplots(1, 3, figsize=(17,5))\n",
    "ax[0].plot(best_ga_model.fitness_curve[:,0])\n",
    "ax[0].set_ylabel('Fitness')\n",
    "ax[0].set_xlabel('Iteration')\n",
    "ax[0].set_title('Best Genetic Algorithm Optimizer')\n",
    "ga_scores_df.groupby(['LearningRate', 'Population']).mean().unstack()['Score'].plot.bar(ax=ax[1])\n",
    "# ax[1].scatter(rh_scores_df['LearningRate'], rh_scores_df['Score'])\n",
    "ax[1].set_ylabel('Recall')\n",
    "# ax[1].set_xlabel('Learning Rate')\n",
    "ax[1].set_title('Comparing Recall for Genetic Algorithm NN');\n",
    "ga_scores_df.groupby(['LearningRate', 'Population']).mean().unstack()['Fitness'].plot.bar(ax=ax[2])\n",
    "ax[2].set_title('Fitness for Genetic Algorithm')\n",
    "ax[2].set_ylabel('Fitness')"
   ]
  },
  {
   "cell_type": "code",
   "execution_count": 69,
   "id": "ced3448f",
   "metadata": {},
   "outputs": [
    {
     "data": {
      "text/plain": [
       "Text(0.5, 1.0, 'Fitness for Each Algorithm')"
      ]
     },
     "execution_count": 69,
     "metadata": {},
     "output_type": "execute_result"
    },
    {
     "data": {
      "image/png": "[encoded data removed]",
      "text/plain": [
       "<Figure size 504x360 with 1 Axes>"
      ]
     },
     "metadata": {
      "needs_background": "light"
     },
     "output_type": "display_data"
    }
   ],
   "source": [
    "fig, ax = plt.subplots(figsize=(7,5))\n",
    "ax.plot(best_rh_model.fitness_curve[:,0], label='Randomized Hill Climb')\n",
    "ax.plot(best_sa_model.fitness_curve[:,0], label='Simulated Annealing')\n",
    "ax.plot(best_ga_model.fitness_curve[:,0], label='Genetic Algorithm')\n",
    "ax.set_ylabel('Fitness')\n",
    "ax.set_xlabel('Iteration')\n",
    "ax.legend()\n",
    "ax.set_title('Fitness for Each Algorithm')"
   ]
  },
  {
   "cell_type": "code",
   "execution_count": 76,
   "id": "f97489da",
   "metadata": {},
   "outputs": [
    {
     "data": {
      "text/plain": [
       "<AxesSubplot:title={'center':'Recall Scores for Each Algorithm'}, xlabel='Algorithm', ylabel='Recall'>"
      ]
     },
     "execution_count": 76,
     "metadata": {},
     "output_type": "execute_result"
    },
    {
     "data": {
      "image/png": "[encoded data removed]",
      "text/plain": [
       "<Figure size 504x360 with 1 Axes>"
      ]
     },
     "metadata": {
      "needs_background": "light"
     },
     "output_type": "display_data"
    }
   ],
   "source": [
    "scores = pd.DataFrame({\n",
    "    'RHC':[get_recall(best_rh_model, X_test, y_test)], \n",
    "    'SA':[get_recall(best_sa_model, X_test, y_test)], \n",
    "    'GA':[get_recall(best_ga_model, X_test, y_test)]\n",
    "})\n",
    "fig, ax = plt.subplots(figsize=(7,5))\n",
    "scores.T.plot.bar(ax=ax, title='Recall Scores for Each Algorithm', xlabel='Algorithm', ylabel='Recall', legend=False)\n",
    "# ax.plot(best_rh_model.fitness_curve[:,0], label='Randomized Hill Climb')\n",
    "# ax.plot(best_sa_model.fitness_curve[:,0], label='Simulated Annealing')\n",
    "# ax.plot(best_ga_model.fitness_curve[:,0], label='Genetic Algorithm')\n",
    "# ax.set_ylabel('Fitness')\n",
    "# ax.set_xlabel('Iteration')\n",
    "# ax.legend()\n",
    "# ax.set_title('Fitness for Each Algorithm')"
   ]
  },
  {
   "cell_type": "code",
   "execution_count": null,
   "id": "3836a1ad",
   "metadata": {},
   "outputs": [],
   "source": []
  }
 ],
 "metadata": {
  "kernelspec": {
   "display_name": "Python 3 (ipykernel)",
   "language": "python",
   "name": "python3"
  },
  "language_info": {
   "codemirror_mode": {
    "name": "ipython",
    "version": 3
   },
   "file_extension": ".py",
   "mimetype": "text/x-python",
   "name": "python",
   "nbconvert_exporter": "python",
   "pygments_lexer": "ipython3",
   "version": "3.9.7"
  }
 },
 "nbformat": 4,
 "nbformat_minor": 5
}
